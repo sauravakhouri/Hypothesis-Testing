{
 "cells": [
  {
   "cell_type": "code",
   "execution_count": 1,
   "metadata": {
    "ExecuteTime": {
     "end_time": "2021-02-21T19:23:24.417170Z",
     "start_time": "2021-02-21T19:23:22.690908Z"
    }
   },
   "outputs": [],
   "source": [
    "import pandas as pd\n",
    "import scipy as scp\n",
    "import statistics as st\n",
    "import numpy as np\n"
   ]
  },
  {
   "cell_type": "code",
   "execution_count": 2,
   "metadata": {
    "ExecuteTime": {
     "end_time": "2021-02-21T19:23:24.452595Z",
     "start_time": "2021-02-21T19:23:24.417170Z"
    }
   },
   "outputs": [
    {
     "data": {
      "text/html": [
       "<div>\n",
       "<style scoped>\n",
       "    .dataframe tbody tr th:only-of-type {\n",
       "        vertical-align: middle;\n",
       "    }\n",
       "\n",
       "    .dataframe tbody tr th {\n",
       "        vertical-align: top;\n",
       "    }\n",
       "\n",
       "    .dataframe thead th {\n",
       "        text-align: right;\n",
       "    }\n",
       "</style>\n",
       "<table border=\"1\" class=\"dataframe\">\n",
       "  <thead>\n",
       "    <tr style=\"text-align: right;\">\n",
       "      <th></th>\n",
       "      <th>Province/State</th>\n",
       "      <th>Country/Region</th>\n",
       "      <th>Last Update</th>\n",
       "      <th>Confirmed</th>\n",
       "      <th>Deaths</th>\n",
       "      <th>Recovered</th>\n",
       "      <th>Latitude</th>\n",
       "      <th>Longitude</th>\n",
       "      <th>Temprature</th>\n",
       "      <th>Humidity</th>\n",
       "      <th>Temp_Cat</th>\n",
       "      <th>Humid_Cat</th>\n",
       "    </tr>\n",
       "  </thead>\n",
       "  <tbody>\n",
       "    <tr>\n",
       "      <th>0</th>\n",
       "      <td>Hubei</td>\n",
       "      <td>Mainland China</td>\n",
       "      <td>2020-03-10T15:13:05</td>\n",
       "      <td>67760</td>\n",
       "      <td>3024</td>\n",
       "      <td>47743</td>\n",
       "      <td>30.9756</td>\n",
       "      <td>112.2707</td>\n",
       "      <td>12.5</td>\n",
       "      <td>86</td>\n",
       "      <td>1</td>\n",
       "      <td>1</td>\n",
       "    </tr>\n",
       "    <tr>\n",
       "      <th>1</th>\n",
       "      <td>NaN</td>\n",
       "      <td>Italy</td>\n",
       "      <td>2020-03-10T17:53:02</td>\n",
       "      <td>10149</td>\n",
       "      <td>631</td>\n",
       "      <td>724</td>\n",
       "      <td>43.0000</td>\n",
       "      <td>12.0000</td>\n",
       "      <td>12.9</td>\n",
       "      <td>64</td>\n",
       "      <td>1</td>\n",
       "      <td>1</td>\n",
       "    </tr>\n",
       "    <tr>\n",
       "      <th>2</th>\n",
       "      <td>NaN</td>\n",
       "      <td>Iran (Islamic Republic of)</td>\n",
       "      <td>2020-03-10T19:13:20</td>\n",
       "      <td>8042</td>\n",
       "      <td>291</td>\n",
       "      <td>2731</td>\n",
       "      <td>32.0000</td>\n",
       "      <td>53.0000</td>\n",
       "      <td>11.9</td>\n",
       "      <td>9</td>\n",
       "      <td>0</td>\n",
       "      <td>0</td>\n",
       "    </tr>\n",
       "    <tr>\n",
       "      <th>3</th>\n",
       "      <td>NaN</td>\n",
       "      <td>Republic of Korea</td>\n",
       "      <td>2020-03-10T19:13:20</td>\n",
       "      <td>7513</td>\n",
       "      <td>54</td>\n",
       "      <td>247</td>\n",
       "      <td>36.0000</td>\n",
       "      <td>128.0000</td>\n",
       "      <td>4.9</td>\n",
       "      <td>41</td>\n",
       "      <td>0</td>\n",
       "      <td>0</td>\n",
       "    </tr>\n",
       "    <tr>\n",
       "      <th>4</th>\n",
       "      <td>NaN</td>\n",
       "      <td>France</td>\n",
       "      <td>2020-03-10T18:53:02</td>\n",
       "      <td>1784</td>\n",
       "      <td>33</td>\n",
       "      <td>12</td>\n",
       "      <td>47.0000</td>\n",
       "      <td>2.0000</td>\n",
       "      <td>11.9</td>\n",
       "      <td>93</td>\n",
       "      <td>0</td>\n",
       "      <td>0</td>\n",
       "    </tr>\n",
       "  </tbody>\n",
       "</table>\n",
       "</div>"
      ],
      "text/plain": [
       "  Province/State              Country/Region          Last Update  Confirmed  \\\n",
       "0          Hubei              Mainland China  2020-03-10T15:13:05      67760   \n",
       "1            NaN                       Italy  2020-03-10T17:53:02      10149   \n",
       "2            NaN  Iran (Islamic Republic of)  2020-03-10T19:13:20       8042   \n",
       "3            NaN           Republic of Korea  2020-03-10T19:13:20       7513   \n",
       "4            NaN                      France  2020-03-10T18:53:02       1784   \n",
       "\n",
       "   Deaths  Recovered  Latitude  Longitude  Temprature  Humidity  Temp_Cat  \\\n",
       "0    3024      47743   30.9756   112.2707        12.5        86         1   \n",
       "1     631        724   43.0000    12.0000        12.9        64         1   \n",
       "2     291       2731   32.0000    53.0000        11.9         9         0   \n",
       "3      54        247   36.0000   128.0000         4.9        41         0   \n",
       "4      33         12   47.0000     2.0000        11.9        93         0   \n",
       "\n",
       "   Humid_Cat  \n",
       "0          1  \n",
       "1          1  \n",
       "2          0  \n",
       "3          0  \n",
       "4          0  "
      ]
     },
     "execution_count": 2,
     "metadata": {},
     "output_type": "execute_result"
    }
   ],
   "source": [
    "Covid=pd.read_csv(\"Corona_Updated.csv\")\n",
    "Covid.head()"
   ]
  },
  {
   "cell_type": "markdown",
   "metadata": {},
   "source": [
    "## Problem Statement"
   ]
  },
  {
   "cell_type": "code",
   "execution_count": 3,
   "metadata": {
    "ExecuteTime": {
     "end_time": "2021-02-21T19:23:25.379334Z",
     "start_time": "2021-02-21T19:23:25.371332Z"
    }
   },
   "outputs": [],
   "source": [
    "# Ojective:\n",
    "\n",
    "# A common perception about COVID-19 is that Warm Climate is more resistant to the corona outbreak \n",
    "# and we need to verify this using Hypothesis Testing. \n"
   ]
  },
  {
   "cell_type": "markdown",
   "metadata": {},
   "source": [
    "#### Null and Alternate Hypothesis"
   ]
  },
  {
   "cell_type": "code",
   "execution_count": 4,
   "metadata": {
    "ExecuteTime": {
     "end_time": "2021-02-21T19:23:26.362015Z",
     "start_time": "2021-02-21T19:23:26.358016Z"
    }
   },
   "outputs": [],
   "source": [
    "# Based on the objective the \n",
    "# Null Hypothesis(H0)= Temperature does not affect covid outbreak\n",
    "# Alternate Hypothesis(HA)= Temperature does affect covid outbreak"
   ]
  },
  {
   "cell_type": "markdown",
   "metadata": {},
   "source": [
    "#### Data Preparation"
   ]
  },
  {
   "cell_type": "code",
   "execution_count": 5,
   "metadata": {
    "ExecuteTime": {
     "end_time": "2021-02-21T19:23:26.905294Z",
     "start_time": "2021-02-21T19:23:26.897296Z"
    }
   },
   "outputs": [],
   "source": [
    "#Note: We are considering Temperature below 24 as cold climate and above 24 as hot climate in our dataset"
   ]
  },
  {
   "cell_type": "code",
   "execution_count": 6,
   "metadata": {
    "ExecuteTime": {
     "end_time": "2021-02-21T19:23:27.693915Z",
     "start_time": "2021-02-21T19:23:27.641948Z"
    }
   },
   "outputs": [
    {
     "data": {
      "text/html": [
       "<div>\n",
       "<style scoped>\n",
       "    .dataframe tbody tr th:only-of-type {\n",
       "        vertical-align: middle;\n",
       "    }\n",
       "\n",
       "    .dataframe tbody tr th {\n",
       "        vertical-align: top;\n",
       "    }\n",
       "\n",
       "    .dataframe thead th {\n",
       "        text-align: right;\n",
       "    }\n",
       "</style>\n",
       "<table border=\"1\" class=\"dataframe\">\n",
       "  <thead>\n",
       "    <tr style=\"text-align: right;\">\n",
       "      <th></th>\n",
       "      <th>Confirmed</th>\n",
       "      <th>Deaths</th>\n",
       "      <th>Recovered</th>\n",
       "      <th>Latitude</th>\n",
       "      <th>Longitude</th>\n",
       "      <th>Temprature</th>\n",
       "      <th>Humidity</th>\n",
       "      <th>Temp_Cat</th>\n",
       "      <th>Humid_Cat</th>\n",
       "    </tr>\n",
       "  </thead>\n",
       "  <tbody>\n",
       "    <tr>\n",
       "      <th>count</th>\n",
       "      <td>206.000000</td>\n",
       "      <td>206.000000</td>\n",
       "      <td>206.000000</td>\n",
       "      <td>206.000000</td>\n",
       "      <td>206.000000</td>\n",
       "      <td>206.000000</td>\n",
       "      <td>206.000000</td>\n",
       "      <td>206.000000</td>\n",
       "      <td>206.000000</td>\n",
       "    </tr>\n",
       "    <tr>\n",
       "      <th>mean</th>\n",
       "      <td>575.640777</td>\n",
       "      <td>20.689320</td>\n",
       "      <td>312.640777</td>\n",
       "      <td>31.184989</td>\n",
       "      <td>11.752030</td>\n",
       "      <td>12.161165</td>\n",
       "      <td>67.728155</td>\n",
       "      <td>0.470874</td>\n",
       "      <td>0.470874</td>\n",
       "    </tr>\n",
       "    <tr>\n",
       "      <th>std</th>\n",
       "      <td>4822.697784</td>\n",
       "      <td>215.794845</td>\n",
       "      <td>3332.764713</td>\n",
       "      <td>21.305149</td>\n",
       "      <td>84.576291</td>\n",
       "      <td>10.229763</td>\n",
       "      <td>21.780588</td>\n",
       "      <td>0.500367</td>\n",
       "      <td>0.500367</td>\n",
       "    </tr>\n",
       "    <tr>\n",
       "      <th>min</th>\n",
       "      <td>0.000000</td>\n",
       "      <td>0.000000</td>\n",
       "      <td>0.000000</td>\n",
       "      <td>-41.454500</td>\n",
       "      <td>-157.498300</td>\n",
       "      <td>-21.900000</td>\n",
       "      <td>6.000000</td>\n",
       "      <td>0.000000</td>\n",
       "      <td>0.000000</td>\n",
       "    </tr>\n",
       "    <tr>\n",
       "      <th>25%</th>\n",
       "      <td>3.000000</td>\n",
       "      <td>0.000000</td>\n",
       "      <td>0.000000</td>\n",
       "      <td>25.069200</td>\n",
       "      <td>-74.841325</td>\n",
       "      <td>6.100000</td>\n",
       "      <td>55.000000</td>\n",
       "      <td>0.000000</td>\n",
       "      <td>0.000000</td>\n",
       "    </tr>\n",
       "    <tr>\n",
       "      <th>50%</th>\n",
       "      <td>12.000000</td>\n",
       "      <td>0.000000</td>\n",
       "      <td>0.000000</td>\n",
       "      <td>36.030550</td>\n",
       "      <td>15.234250</td>\n",
       "      <td>11.750000</td>\n",
       "      <td>73.000000</td>\n",
       "      <td>0.000000</td>\n",
       "      <td>0.000000</td>\n",
       "    </tr>\n",
       "    <tr>\n",
       "      <th>75%</th>\n",
       "      <td>75.750000</td>\n",
       "      <td>1.000000</td>\n",
       "      <td>4.000000</td>\n",
       "      <td>43.870250</td>\n",
       "      <td>101.363375</td>\n",
       "      <td>20.375000</td>\n",
       "      <td>84.000000</td>\n",
       "      <td>1.000000</td>\n",
       "      <td>1.000000</td>\n",
       "    </tr>\n",
       "    <tr>\n",
       "      <th>max</th>\n",
       "      <td>67760.000000</td>\n",
       "      <td>3024.000000</td>\n",
       "      <td>47743.000000</td>\n",
       "      <td>64.963100</td>\n",
       "      <td>174.886000</td>\n",
       "      <td>33.100000</td>\n",
       "      <td>98.000000</td>\n",
       "      <td>1.000000</td>\n",
       "      <td>1.000000</td>\n",
       "    </tr>\n",
       "  </tbody>\n",
       "</table>\n",
       "</div>"
      ],
      "text/plain": [
       "          Confirmed       Deaths     Recovered    Latitude   Longitude  \\\n",
       "count    206.000000   206.000000    206.000000  206.000000  206.000000   \n",
       "mean     575.640777    20.689320    312.640777   31.184989   11.752030   \n",
       "std     4822.697784   215.794845   3332.764713   21.305149   84.576291   \n",
       "min        0.000000     0.000000      0.000000  -41.454500 -157.498300   \n",
       "25%        3.000000     0.000000      0.000000   25.069200  -74.841325   \n",
       "50%       12.000000     0.000000      0.000000   36.030550   15.234250   \n",
       "75%       75.750000     1.000000      4.000000   43.870250  101.363375   \n",
       "max    67760.000000  3024.000000  47743.000000   64.963100  174.886000   \n",
       "\n",
       "       Temprature    Humidity    Temp_Cat   Humid_Cat  \n",
       "count  206.000000  206.000000  206.000000  206.000000  \n",
       "mean    12.161165   67.728155    0.470874    0.470874  \n",
       "std     10.229763   21.780588    0.500367    0.500367  \n",
       "min    -21.900000    6.000000    0.000000    0.000000  \n",
       "25%      6.100000   55.000000    0.000000    0.000000  \n",
       "50%     11.750000   73.000000    0.000000    0.000000  \n",
       "75%     20.375000   84.000000    1.000000    1.000000  \n",
       "max     33.100000   98.000000    1.000000    1.000000  "
      ]
     },
     "execution_count": 6,
     "metadata": {},
     "output_type": "execute_result"
    }
   ],
   "source": [
    "Covid.describe()\n",
    "# Covid.isnull().sum()"
   ]
  },
  {
   "cell_type": "code",
   "execution_count": 7,
   "metadata": {
    "ExecuteTime": {
     "end_time": "2021-02-21T19:23:28.584692Z",
     "start_time": "2021-02-21T19:23:28.576714Z"
    }
   },
   "outputs": [],
   "source": [
    "Covid['Temp_Cat'] = Covid['Temprature'].apply(lambda x : 0 if x < 24 else 1)"
   ]
  },
  {
   "cell_type": "code",
   "execution_count": 8,
   "metadata": {
    "ExecuteTime": {
     "end_time": "2021-02-21T19:23:30.016332Z",
     "start_time": "2021-02-21T19:23:29.992350Z"
    }
   },
   "outputs": [
    {
     "name": "stdout",
     "output_type": "stream",
     "text": [
      "Province/State     4\n",
      "Country/Region    31\n",
      "Last Update       31\n",
      "Confirmed         31\n",
      "Deaths            31\n",
      "Recovered         31\n",
      "Latitude          31\n",
      "Longitude         31\n",
      "Temprature        31\n",
      "Humidity          31\n",
      "Temp_Cat          31\n",
      "Humid_Cat         31\n",
      "dtype: int64\n",
      "Province/State     95\n",
      "Country/Region    175\n",
      "Last Update       175\n",
      "Confirmed         175\n",
      "Deaths            175\n",
      "Recovered         175\n",
      "Latitude          175\n",
      "Longitude         175\n",
      "Temprature        175\n",
      "Humidity          175\n",
      "Temp_Cat          175\n",
      "Humid_Cat         175\n",
      "dtype: int64\n"
     ]
    }
   ],
   "source": [
    "print(Covid.loc[Covid['Temp_Cat']==1].count())\n",
    "print(Covid.loc[Covid['Temp_Cat']==0].count())\n"
   ]
  },
  {
   "cell_type": "code",
   "execution_count": 9,
   "metadata": {
    "ExecuteTime": {
     "end_time": "2021-02-21T19:23:31.475501Z",
     "start_time": "2021-02-21T19:23:31.471505Z"
    }
   },
   "outputs": [],
   "source": [
    "Covid_t = Covid[['Confirmed', 'Temp_Cat']]"
   ]
  },
  {
   "cell_type": "code",
   "execution_count": 10,
   "metadata": {
    "ExecuteTime": {
     "end_time": "2021-02-21T19:23:32.765778Z",
     "start_time": "2021-02-21T19:23:32.754184Z"
    }
   },
   "outputs": [
    {
     "data": {
      "text/html": [
       "<div>\n",
       "<style scoped>\n",
       "    .dataframe tbody tr th:only-of-type {\n",
       "        vertical-align: middle;\n",
       "    }\n",
       "\n",
       "    .dataframe tbody tr th {\n",
       "        vertical-align: top;\n",
       "    }\n",
       "\n",
       "    .dataframe thead th {\n",
       "        text-align: right;\n",
       "    }\n",
       "</style>\n",
       "<table border=\"1\" class=\"dataframe\">\n",
       "  <thead>\n",
       "    <tr style=\"text-align: right;\">\n",
       "      <th></th>\n",
       "      <th>Confirmed</th>\n",
       "      <th>Temp_Cat</th>\n",
       "    </tr>\n",
       "  </thead>\n",
       "  <tbody>\n",
       "    <tr>\n",
       "      <th>0</th>\n",
       "      <td>67760</td>\n",
       "      <td>0</td>\n",
       "    </tr>\n",
       "    <tr>\n",
       "      <th>1</th>\n",
       "      <td>10149</td>\n",
       "      <td>0</td>\n",
       "    </tr>\n",
       "    <tr>\n",
       "      <th>2</th>\n",
       "      <td>8042</td>\n",
       "      <td>0</td>\n",
       "    </tr>\n",
       "    <tr>\n",
       "      <th>3</th>\n",
       "      <td>7513</td>\n",
       "      <td>0</td>\n",
       "    </tr>\n",
       "    <tr>\n",
       "      <th>4</th>\n",
       "      <td>1784</td>\n",
       "      <td>0</td>\n",
       "    </tr>\n",
       "    <tr>\n",
       "      <th>...</th>\n",
       "      <td>...</td>\n",
       "      <td>...</td>\n",
       "    </tr>\n",
       "    <tr>\n",
       "      <th>201</th>\n",
       "      <td>0</td>\n",
       "      <td>0</td>\n",
       "    </tr>\n",
       "    <tr>\n",
       "      <th>202</th>\n",
       "      <td>0</td>\n",
       "      <td>0</td>\n",
       "    </tr>\n",
       "    <tr>\n",
       "      <th>203</th>\n",
       "      <td>0</td>\n",
       "      <td>0</td>\n",
       "    </tr>\n",
       "    <tr>\n",
       "      <th>204</th>\n",
       "      <td>0</td>\n",
       "      <td>0</td>\n",
       "    </tr>\n",
       "    <tr>\n",
       "      <th>205</th>\n",
       "      <td>0</td>\n",
       "      <td>0</td>\n",
       "    </tr>\n",
       "  </tbody>\n",
       "</table>\n",
       "<p>206 rows × 2 columns</p>\n",
       "</div>"
      ],
      "text/plain": [
       "     Confirmed  Temp_Cat\n",
       "0        67760         0\n",
       "1        10149         0\n",
       "2         8042         0\n",
       "3         7513         0\n",
       "4         1784         0\n",
       "..         ...       ...\n",
       "201          0         0\n",
       "202          0         0\n",
       "203          0         0\n",
       "204          0         0\n",
       "205          0         0\n",
       "\n",
       "[206 rows x 2 columns]"
      ]
     },
     "execution_count": 10,
     "metadata": {},
     "output_type": "execute_result"
    }
   ],
   "source": [
    "Covid_t"
   ]
  },
  {
   "cell_type": "markdown",
   "metadata": {
    "ExecuteTime": {
     "end_time": "2021-02-21T19:23:33.824366Z",
     "start_time": "2021-02-21T19:23:33.820542Z"
    }
   },
   "source": [
    "### Implementing the Two-Sample Z test for the dataset."
   ]
  },
  {
   "cell_type": "code",
   "execution_count": 12,
   "metadata": {
    "ExecuteTime": {
     "end_time": "2021-02-21T19:23:34.587348Z",
     "start_time": "2021-02-21T19:23:34.579358Z"
    }
   },
   "outputs": [],
   "source": [
    "d1= Covid_t[Covid_t['Temp_Cat']==1]['Confirmed']\n",
    "d2= Covid_t[Covid_t['Temp_Cat']==0]['Confirmed']\n",
    "\n",
    "# storing confirmed cases of hot and cold regions in different series object"
   ]
  },
  {
   "cell_type": "code",
   "execution_count": 13,
   "metadata": {
    "ExecuteTime": {
     "end_time": "2021-02-21T19:23:35.524948Z",
     "start_time": "2021-02-21T19:23:35.516957Z"
    }
   },
   "outputs": [
    {
     "name": "stdout",
     "output_type": "stream",
     "text": [
      "31 175\n"
     ]
    }
   ],
   "source": [
    "print(d1.count(),d2.count())\n"
   ]
  },
  {
   "cell_type": "markdown",
   "metadata": {},
   "source": [
    "##### Sample Mean 1 and Sample Mean 2 "
   ]
  },
  {
   "cell_type": "code",
   "execution_count": 14,
   "metadata": {
    "ExecuteTime": {
     "end_time": "2021-02-21T19:23:36.542077Z",
     "start_time": "2021-02-21T19:23:36.534088Z"
    }
   },
   "outputs": [],
   "source": [
    "m1,m2 = d1.mean(),d2.mean()  # finding mean confirmed cases of hot and cold regions"
   ]
  },
  {
   "cell_type": "code",
   "execution_count": 15,
   "metadata": {
    "ExecuteTime": {
     "end_time": "2021-02-21T19:23:37.265118Z",
     "start_time": "2021-02-21T19:23:37.261144Z"
    }
   },
   "outputs": [
    {
     "name": "stdout",
     "output_type": "stream",
     "text": [
      "26.548387096774192 672.9085714285715\n"
     ]
    }
   ],
   "source": [
    "print(m1,m2)"
   ]
  },
  {
   "cell_type": "markdown",
   "metadata": {},
   "source": [
    "##### Standard Deviation 1 and Standard Deviation 2"
   ]
  },
  {
   "cell_type": "code",
   "execution_count": 16,
   "metadata": {
    "ExecuteTime": {
     "end_time": "2021-02-21T19:23:41.676357Z",
     "start_time": "2021-02-21T19:23:41.668367Z"
    }
   },
   "outputs": [],
   "source": [
    "sd1,sd2 = d1.std(),d2.std()   # finding Standard deviation in confirmed cases of hot and cold regions"
   ]
  },
  {
   "cell_type": "markdown",
   "metadata": {
    "ExecuteTime": {
     "end_time": "2021-02-21T19:23:42.285522Z",
     "start_time": "2021-02-21T19:23:42.277531Z"
    }
   },
   "source": [
    "print(sd1,sd2)"
   ]
  },
  {
   "cell_type": "markdown",
   "metadata": {},
   "source": [
    "##### Sample Size 1 and Sample Size 2"
   ]
  },
  {
   "cell_type": "code",
   "execution_count": 18,
   "metadata": {
    "ExecuteTime": {
     "end_time": "2021-02-21T19:23:43.486322Z",
     "start_time": "2021-02-21T19:23:43.478351Z"
    }
   },
   "outputs": [],
   "source": [
    "n1,n2 = d1.shape[0],d2.shape[0]  #finding the number of samples of confimed cases in hot and cold regions"
   ]
  },
  {
   "cell_type": "code",
   "execution_count": 19,
   "metadata": {
    "ExecuteTime": {
     "end_time": "2021-02-21T19:23:44.457505Z",
     "start_time": "2021-02-21T19:23:44.453510Z"
    }
   },
   "outputs": [
    {
     "name": "stdout",
     "output_type": "stream",
     "text": [
      "31 175\n"
     ]
    }
   ],
   "source": [
    "print(n1,n2)"
   ]
  },
  {
   "cell_type": "markdown",
   "metadata": {},
   "source": [
    "##### Population mean 1 and 2"
   ]
  },
  {
   "cell_type": "code",
   "execution_count": 67,
   "metadata": {
    "ExecuteTime": {
     "end_time": "2021-02-21T19:45:36.087986Z",
     "start_time": "2021-02-21T19:45:36.084024Z"
    }
   },
   "outputs": [],
   "source": [
    "# mudiff= mu1-mu2 as\n",
    "# The population means of two groups are not significantly different in a 2 sample Z test as per null hypothesis.\n",
    "mudiff=0"
   ]
  },
  {
   "cell_type": "markdown",
   "metadata": {},
   "source": [
    "#### Hypothesis Test using Two Sample Z-Test"
   ]
  },
  {
   "cell_type": "code",
   "execution_count": 85,
   "metadata": {
    "ExecuteTime": {
     "end_time": "2021-02-21T20:19:33.035562Z",
     "start_time": "2021-02-21T20:19:33.027571Z"
    }
   },
   "outputs": [],
   "source": [
    "def TwoSampleZTest(X1,X2,mudiff,sigma1,sigma2,N1,N2):\n",
    "    from scipy.stats import norm\n",
    "    StdError_denom=np.sqrt(sigma1**2/N1 +sigma2**2/N2)\n",
    "    z=((X1-X2)-mudiff)/StdError_denom\n",
    "    pval=2*(1-norm.cdf(abs(z)))   # p value multiplied by 2 because of 2 tailed Z test\n",
    "    return z,pval\n",
    "\n",
    "# 1 - norm.cdf can be replaced in numpy using norm.sf for a better precision"
   ]
  },
  {
   "cell_type": "code",
   "execution_count": 88,
   "metadata": {
    "ExecuteTime": {
     "end_time": "2021-02-21T20:20:01.355584Z",
     "start_time": "2021-02-21T20:20:01.347568Z"
    }
   },
   "outputs": [],
   "source": [
    "Z,P = TwoSampleZTest(m1,m2,mudiff,sd1,sd2,n1,n2)\n",
    "\n",
    "Z_Score= np.round(Z,8)\n",
    "P_Value= np.round(P,6)"
   ]
  },
  {
   "cell_type": "code",
   "execution_count": 89,
   "metadata": {
    "ExecuteTime": {
     "end_time": "2021-02-21T20:20:01.817419Z",
     "start_time": "2021-02-21T20:20:01.813423Z"
    }
   },
   "outputs": [],
   "source": [
    "if P_Value <0.05:\n",
    "    Hypothesis_status='Reject Null Hypothesis: Significant'\n",
    "else:\n",
    "    Hypothesis_status='Do not Reject Null Hypothesis: Not Significant'\n"
   ]
  },
  {
   "cell_type": "markdown",
   "metadata": {
    "ExecuteTime": {
     "end_time": "2021-02-21T20:46:26.664491Z",
     "start_time": "2021-02-21T20:46:26.660497Z"
    }
   },
   "source": [
    "#### Result"
   ]
  },
  {
   "cell_type": "code",
   "execution_count": 90,
   "metadata": {
    "ExecuteTime": {
     "end_time": "2021-02-21T20:20:02.444581Z",
     "start_time": "2021-02-21T20:20:02.436602Z"
    }
   },
   "outputs": [
    {
     "name": "stdout",
     "output_type": "stream",
     "text": [
      "0.102054\n",
      "Do not Reject Null Hypothesis: Not Significant\n"
     ]
    }
   ],
   "source": [
    "\n",
    "print(P_Value)\n",
    "print(Hypothesis_status)"
   ]
  },
  {
   "cell_type": "code",
   "execution_count": null,
   "metadata": {},
   "outputs": [],
   "source": []
  },
  {
   "cell_type": "code",
   "execution_count": 91,
   "metadata": {
    "ExecuteTime": {
     "end_time": "2021-02-21T20:20:03.846343Z",
     "start_time": "2021-02-21T20:20:03.842348Z"
    }
   },
   "outputs": [],
   "source": [
    "#chaging p-value formula by replacing norm.cdf in numpy with norm.sf"
   ]
  },
  {
   "cell_type": "code",
   "execution_count": 98,
   "metadata": {
    "ExecuteTime": {
     "end_time": "2021-02-21T20:28:43.396778Z",
     "start_time": "2021-02-21T20:28:43.388789Z"
    }
   },
   "outputs": [],
   "source": [
    "def TwoSampleZTest2(X1,X2,mudiff,sigma1,sigma2,N1,N2):\n",
    "    from scipy.stats import norm\n",
    "    StdError_denom=np.sqrt(sigma1**2/N1 +sigma2**2/N2)\n",
    "    z=((X1-X2)-mudiff)/StdError_denom\n",
    "    p_value = 2*(norm.sf(abs(z))) \n",
    "    return z,p_value\n",
    "\n"
   ]
  },
  {
   "cell_type": "code",
   "execution_count": 99,
   "metadata": {
    "ExecuteTime": {
     "end_time": "2021-02-21T20:28:43.820253Z",
     "start_time": "2021-02-21T20:28:43.812225Z"
    }
   },
   "outputs": [],
   "source": [
    "Z,P = TwoSampleZTest2(m1,m2,mudiff,sd1,sd2,n1,n2)\n",
    "\n",
    "Z_Score= np.round(Z,8)\n",
    "P_Value= np.round(P,6)"
   ]
  },
  {
   "cell_type": "code",
   "execution_count": 100,
   "metadata": {
    "ExecuteTime": {
     "end_time": "2021-02-21T20:28:44.469848Z",
     "start_time": "2021-02-21T20:28:44.465853Z"
    }
   },
   "outputs": [],
   "source": [
    "if P_Value <0.05:\n",
    "    Hypothesis_status='Reject Null Hypothesis: Significant'\n",
    "else:\n",
    "    Hypothesis_status='Do not Reject Null Hypothesis: Not Significant'\n"
   ]
  },
  {
   "cell_type": "code",
   "execution_count": 101,
   "metadata": {
    "ExecuteTime": {
     "end_time": "2021-02-21T20:28:48.210968Z",
     "start_time": "2021-02-21T20:28:48.202990Z"
    }
   },
   "outputs": [
    {
     "name": "stdout",
     "output_type": "stream",
     "text": [
      "0.102054\n",
      "Do not Reject Null Hypothesis: Not Significant\n"
     ]
    }
   ],
   "source": [
    "\n",
    "print(P_Value)\n",
    "print(Hypothesis_status)"
   ]
  },
  {
   "cell_type": "code",
   "execution_count": null,
   "metadata": {},
   "outputs": [],
   "source": []
  },
  {
   "cell_type": "code",
   "execution_count": null,
   "metadata": {
    "ExecuteTime": {
     "end_time": "2021-02-21T20:30:35.527905Z",
     "start_time": "2021-02-21T20:30:35.519879Z"
    }
   },
   "outputs": [],
   "source": []
  },
  {
   "cell_type": "code",
   "execution_count": null,
   "metadata": {
    "ExecuteTime": {
     "end_time": "2021-02-21T20:30:35.982197Z",
     "start_time": "2021-02-21T20:30:35.974199Z"
    }
   },
   "outputs": [],
   "source": []
  },
  {
   "cell_type": "code",
   "execution_count": null,
   "metadata": {},
   "outputs": [],
   "source": []
  }
 ],
 "metadata": {
  "kernelspec": {
   "display_name": "Python 3",
   "language": "python",
   "name": "python3"
  },
  "language_info": {
   "codemirror_mode": {
    "name": "ipython",
    "version": 3
   },
   "file_extension": ".py",
   "mimetype": "text/x-python",
   "name": "python",
   "nbconvert_exporter": "python",
   "pygments_lexer": "ipython3",
   "version": "3.8.3"
  }
 },
 "nbformat": 4,
 "nbformat_minor": 4
}
